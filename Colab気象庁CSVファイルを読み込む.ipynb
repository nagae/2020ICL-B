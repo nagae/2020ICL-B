{
  "nbformat": 4,
  "nbformat_minor": 0,
  "metadata": {
    "colab": {
      "name": "Colab気象庁CSVファイルを読み込む.ipynb",
      "provenance": [],
      "collapsed_sections": [],
      "include_colab_link": true
    },
    "kernelspec": {
      "name": "python3",
      "display_name": "Python 3"
    }
  },
  "cells": [
    {
      "cell_type": "markdown",
      "metadata": {
        "id": "view-in-github",
        "colab_type": "text"
      },
      "source": [
        "<a href=\"https://colab.research.google.com/github/nagae/2020ICL-B/blob/master/Colab%E6%B0%97%E8%B1%A1%E5%BA%81CSV%E3%83%95%E3%82%A1%E3%82%A4%E3%83%AB%E3%82%92%E8%AA%AD%E3%81%BF%E8%BE%BC%E3%82%80.ipynb\" target=\"_parent\"><img src=\"https://colab.research.google.com/assets/colab-badge.svg\" alt=\"Open In Colab\"/></a>"
      ]
    },
    {
      "cell_type": "markdown",
      "metadata": {
        "id": "PVwNDvwJFU01",
        "colab_type": "text"
      },
      "source": [
        "# 気象庁からダウンロードした CSV データを Python の変数に読み込む方法\n",
        "\n",
        "気象庁の[過去の気象データ・ダウンロード](https://www.data.jma.go.jp/gmd/risk/obsdl/index.php)からは，選択した地点・項目・期間に応じた気象データを[CSV形式](https://www.pc-master.jp/sousa/csv.html)のファイルでダウンロードすることができる．\n",
        "1. 「地点」を選ぶ．ここでは地点を1箇所のみ選択することにしよう．\n",
        "2. 「項目」を選ぶ．ここでは「データの種類」として「月別値」，「項目」として「月平均気温」と「降水量の月合計」を選択することにしよう．\n",
        "3. 「期間」を選ぶ．ここでは「連続した期間」として「2019年1月」から「2019年12月」を選択することにしよう．\n",
        "4. 「CSVファイルをダウンロード」とすれば，`data.csv` といった名前のファイルがダウンロードされる．\n",
        "![](https://i.imgur.com/hEB47Ae.gif)\n",
        "\n",
        "以下では，気象庁からダウンロードされたCSVデータが `data.csv` という名前のファイルで自分のPCに保存されているとし，そこから各月の平均気温や総降水量のVデータを Python の変数 `temp` や `prep` に読み込む方法を解説する．\n",
        "\n"
      ]
    },
    {
      "cell_type": "markdown",
      "metadata": {
        "id": "3NgfsAzaszGA",
        "colab_type": "text"
      },
      "source": [
        "## ダウンロードされたファイルを Colaboratory のファイルシステムにコピー\n",
        "まず，ダウンロードされたファイルを，Colaboratory のファイルビューワーにドラッグ＆ドロップする．\n",
        "![](https://i.imgur.com/EhvTZlo.gif)\n",
        "\n",
        "これで，Colaboratory から `data.csv` にアクセスできるようになる．なお，ここで Colaboratory にコピーされたファイルは，**ランタイム** が切れると消えてしまうので，**オリジナルは常に手許に残しておくこと**．\n",
        "\n",
        "## Pandas モジュールのインポート\n",
        "`csv` ファイルを読み込む一番手っ取り早い方法は，データ分析用の**モジュール**である[`pandas`](https://pandas.pydata.org/docs/)の [`read_csv`関数](https://pandas.pydata.org/pandas-docs/stable/reference/api/pandas.read_csv.html) を使うことだ．\n",
        "\n",
        "以下のセルでは，`pandas` モジュールを `pd` という名前でインポートしている．"
      ]
    },
    {
      "cell_type": "code",
      "metadata": {
        "id": "5wd-Kn8dFM0g",
        "colab_type": "code",
        "colab": {}
      },
      "source": [
        "import pandas as pd # pandas モジュールを pd という名前でインポート"
      ],
      "execution_count": 0,
      "outputs": []
    },
    {
      "cell_type": "markdown",
      "metadata": {
        "id": "A07YId8aO0qJ",
        "colab_type": "text"
      },
      "source": [
        "## データファイルの読み込みと整形\n",
        "まずは，`pandas` モジュールの機能を使って，`data.csv`ファイルを読み込み，使いやすいように形を整えておこう．\n",
        "\n",
        "`pandas` モジュールでは，データのかたまりを [`DataFrame`](https://pandas.pydata.org/pandas-docs/stable/reference/api/pandas.DataFrame.html)という**オブジェクト**として扱う．`read_csv`関数を使うと，CSVファイルから読み込んだデータで `DataFrame` の **インスタンス** を生成できる（オブジェクトとかインスタンスとかが良くわからなければ読み飛ばしていい）．\n",
        "\n",
        "聞き慣れない言葉が続いて嫌になりそうだが，気象庁からダウンロードした CSV ファイルは，[`Shift_JIS`](https://ja.wikipedia.org/wiki/Shift_JIS) という「時代遅れ」な**文字コード**で記述されている．そのため，`data.csv`を読み込む際には，`read_csv`関数に文字コードを指定する `encoding='shift-jis'`という引数を与えてやる必要がある．"
      ]
    },
    {
      "cell_type": "code",
      "metadata": {
        "id": "C2RnBvmfFUkr",
        "colab_type": "code",
        "outputId": "d2ac8507-4828-4d8a-bfad-f9ffa034e3f2",
        "colab": {
          "base_uri": "https://localhost:8080/",
          "height": 514
        }
      },
      "source": [
        "df = pd.read_csv('data.csv', encoding='shift-jis') # `data.csv`というファイルから読み込んだデータで df という名前のデータフレームを作る\n",
        "df # df というデータフレームの中身を表示"
      ],
      "execution_count": 6,
      "outputs": [
        {
          "output_type": "execute_result",
          "data": {
            "text/html": [
              "<div>\n",
              "<style scoped>\n",
              "    .dataframe tbody tr th:only-of-type {\n",
              "        vertical-align: middle;\n",
              "    }\n",
              "\n",
              "    .dataframe tbody tr th {\n",
              "        vertical-align: top;\n",
              "    }\n",
              "\n",
              "    .dataframe thead th {\n",
              "        text-align: right;\n",
              "    }\n",
              "</style>\n",
              "<table border=\"1\" class=\"dataframe\">\n",
              "  <thead>\n",
              "    <tr style=\"text-align: right;\">\n",
              "      <th></th>\n",
              "      <th></th>\n",
              "      <th></th>\n",
              "      <th></th>\n",
              "      <th></th>\n",
              "      <th></th>\n",
              "      <th></th>\n",
              "      <th>ダウンロードした時刻：2020/05/06 10:16:58</th>\n",
              "    </tr>\n",
              "  </thead>\n",
              "  <tbody>\n",
              "    <tr>\n",
              "      <th>NaN</th>\n",
              "      <th>仙台</th>\n",
              "      <th>仙台</th>\n",
              "      <th>仙台</th>\n",
              "      <th>仙台</th>\n",
              "      <th>仙台</th>\n",
              "      <th>仙台</th>\n",
              "      <td>仙台</td>\n",
              "    </tr>\n",
              "    <tr>\n",
              "      <th>年月</th>\n",
              "      <th>平均気温(℃)</th>\n",
              "      <th>平均気温(℃)</th>\n",
              "      <th>平均気温(℃)</th>\n",
              "      <th>降水量の合計(mm)</th>\n",
              "      <th>降水量の合計(mm)</th>\n",
              "      <th>降水量の合計(mm)</th>\n",
              "      <td>降水量の合計(mm)</td>\n",
              "    </tr>\n",
              "    <tr>\n",
              "      <th>NaN</th>\n",
              "      <th>NaN</th>\n",
              "      <th>品質情報</th>\n",
              "      <th>均質番号</th>\n",
              "      <th>NaN</th>\n",
              "      <th>現象なし情報</th>\n",
              "      <th>品質情報</th>\n",
              "      <td>均質番号</td>\n",
              "    </tr>\n",
              "    <tr>\n",
              "      <th>2019/1</th>\n",
              "      <th>2.4</th>\n",
              "      <th>8</th>\n",
              "      <th>1</th>\n",
              "      <th>4.0</th>\n",
              "      <th>0</th>\n",
              "      <th>8</th>\n",
              "      <td>1</td>\n",
              "    </tr>\n",
              "    <tr>\n",
              "      <th>2019/2</th>\n",
              "      <th>3.7</th>\n",
              "      <th>8</th>\n",
              "      <th>1</th>\n",
              "      <th>13.0</th>\n",
              "      <th>0</th>\n",
              "      <th>8</th>\n",
              "      <td>1</td>\n",
              "    </tr>\n",
              "    <tr>\n",
              "      <th>2019/3</th>\n",
              "      <th>7.0</th>\n",
              "      <th>8</th>\n",
              "      <th>1</th>\n",
              "      <th>83.0</th>\n",
              "      <th>0</th>\n",
              "      <th>8</th>\n",
              "      <td>1</td>\n",
              "    </tr>\n",
              "    <tr>\n",
              "      <th>2019/4</th>\n",
              "      <th>10.2</th>\n",
              "      <th>8</th>\n",
              "      <th>1</th>\n",
              "      <th>90.5</th>\n",
              "      <th>0</th>\n",
              "      <th>8</th>\n",
              "      <td>1</td>\n",
              "    </tr>\n",
              "    <tr>\n",
              "      <th>2019/5</th>\n",
              "      <th>17.4</th>\n",
              "      <th>8</th>\n",
              "      <th>1</th>\n",
              "      <th>81.0</th>\n",
              "      <th>0</th>\n",
              "      <th>8</th>\n",
              "      <td>1</td>\n",
              "    </tr>\n",
              "    <tr>\n",
              "      <th>2019/6</th>\n",
              "      <th>19.0</th>\n",
              "      <th>8</th>\n",
              "      <th>1</th>\n",
              "      <th>168.5</th>\n",
              "      <th>0</th>\n",
              "      <th>8</th>\n",
              "      <td>1</td>\n",
              "    </tr>\n",
              "    <tr>\n",
              "      <th>2019/7</th>\n",
              "      <th>22.4</th>\n",
              "      <th>8</th>\n",
              "      <th>1</th>\n",
              "      <th>111.5</th>\n",
              "      <th>0</th>\n",
              "      <th>8</th>\n",
              "      <td>1</td>\n",
              "    </tr>\n",
              "    <tr>\n",
              "      <th>2019/8</th>\n",
              "      <th>26.2</th>\n",
              "      <th>8</th>\n",
              "      <th>1</th>\n",
              "      <th>88.5</th>\n",
              "      <th>0</th>\n",
              "      <th>8</th>\n",
              "      <td>1</td>\n",
              "    </tr>\n",
              "    <tr>\n",
              "      <th>2019/9</th>\n",
              "      <th>22.4</th>\n",
              "      <th>8</th>\n",
              "      <th>1</th>\n",
              "      <th>72.5</th>\n",
              "      <th>0</th>\n",
              "      <th>8</th>\n",
              "      <td>1</td>\n",
              "    </tr>\n",
              "    <tr>\n",
              "      <th>2019/10</th>\n",
              "      <th>16.9</th>\n",
              "      <th>8</th>\n",
              "      <th>1</th>\n",
              "      <th>644.5</th>\n",
              "      <th>0</th>\n",
              "      <th>8</th>\n",
              "      <td>1</td>\n",
              "    </tr>\n",
              "    <tr>\n",
              "      <th>2019/11</th>\n",
              "      <th>10.0</th>\n",
              "      <th>8</th>\n",
              "      <th>1</th>\n",
              "      <th>5.5</th>\n",
              "      <th>0</th>\n",
              "      <th>8</th>\n",
              "      <td>1</td>\n",
              "    </tr>\n",
              "    <tr>\n",
              "      <th>2019/12</th>\n",
              "      <th>5.4</th>\n",
              "      <th>8</th>\n",
              "      <th>1</th>\n",
              "      <th>27.0</th>\n",
              "      <th>0</th>\n",
              "      <th>8</th>\n",
              "      <td>1</td>\n",
              "    </tr>\n",
              "  </tbody>\n",
              "</table>\n",
              "</div>"
            ],
            "text/plain": [
              "                                                                 ダウンロードした時刻：2020/05/06 10:16:58\n",
              "NaN     仙台      仙台      仙台      仙台         仙台         仙台                                     仙台\n",
              "年月      平均気温(℃) 平均気温(℃) 平均気温(℃) 降水量の合計(mm) 降水量の合計(mm) 降水量の合計(mm)                     降水量の合計(mm)\n",
              "NaN     NaN     品質情報    均質番号    NaN        現象なし情報     品質情報                                 均質番号\n",
              "2019/1  2.4     8       1       4.0        0          8                                       1\n",
              "2019/2  3.7     8       1       13.0       0          8                                       1\n",
              "2019/3  7.0     8       1       83.0       0          8                                       1\n",
              "2019/4  10.2    8       1       90.5       0          8                                       1\n",
              "2019/5  17.4    8       1       81.0       0          8                                       1\n",
              "2019/6  19.0    8       1       168.5      0          8                                       1\n",
              "2019/7  22.4    8       1       111.5      0          8                                       1\n",
              "2019/8  26.2    8       1       88.5       0          8                                       1\n",
              "2019/9  22.4    8       1       72.5       0          8                                       1\n",
              "2019/10 16.9    8       1       644.5      0          8                                       1\n",
              "2019/11 10.0    8       1       5.5        0          8                                       1\n",
              "2019/12 5.4     8       1       27.0       0          8                                       1"
            ]
          },
          "metadata": {
            "tags": []
          },
          "execution_count": 6
        }
      ]
    },
    {
      "cell_type": "markdown",
      "metadata": {
        "id": "hJrCkrYXRfx7",
        "colab_type": "text"
      },
      "source": [
        "ぱっと見わかり辛いが，このデータフレームの**最初の2行はデータを取り扱う上で必要がない**．具体的には，最初の第0行（行番号は0から数えられることに注意）は，\n",
        "```\n",
        "ダウンロードした時刻：2020/04/24 16:17:57\n",
        "```\n",
        "と，ダウンロード日時を表しているだけし，第1行も\n",
        "```\n",
        "NaN\t仙台\t仙台\t仙台\t仙台\t仙台\t仙台\t仙台\n",
        "```\n",
        "と，地名を繰り返しているだけ．`NaN`というのは，その**セル**にデータが入っていない（欠損値）を表している．\n",
        "\n",
        "あと見るように，実際にデータの取扱いで必要となるのは，第2行の\n",
        "```\n",
        "年月\t平均気温(℃)\t平均気温(℃)\t平均気温(℃)\t降水量の合計(mm)\t降水量の合計(mm)\t降水量の合計(mm)\t降水量の合計(mm)\n",
        "```\n",
        "という情報だ．\n",
        "\n",
        "そこで，`data.csv` の最初の2行（第0行と第1行）を読み飛ばし，第2行を **ヘッダ**（見出し行）に指定して読み込み直そう．"
      ]
    },
    {
      "cell_type": "code",
      "metadata": {
        "id": "TvY_rM-tS8s1",
        "colab_type": "code",
        "outputId": "48087915-9efb-4ef3-8ec7-bcbbf663aadd",
        "colab": {
          "base_uri": "https://localhost:8080/",
          "height": 452
        }
      },
      "source": [
        "df = pd.read_csv('data.csv', encoding='shift-jis', header=2) # 最初の2行を読み飛ばし，第2行（3行目）をヘッダとして df に読み込む\n",
        "df # df というデータフレームの中身を表示"
      ],
      "execution_count": 8,
      "outputs": [
        {
          "output_type": "execute_result",
          "data": {
            "text/html": [
              "<div>\n",
              "<style scoped>\n",
              "    .dataframe tbody tr th:only-of-type {\n",
              "        vertical-align: middle;\n",
              "    }\n",
              "\n",
              "    .dataframe tbody tr th {\n",
              "        vertical-align: top;\n",
              "    }\n",
              "\n",
              "    .dataframe thead th {\n",
              "        text-align: right;\n",
              "    }\n",
              "</style>\n",
              "<table border=\"1\" class=\"dataframe\">\n",
              "  <thead>\n",
              "    <tr style=\"text-align: right;\">\n",
              "      <th></th>\n",
              "      <th>年月</th>\n",
              "      <th>平均気温(℃)</th>\n",
              "      <th>平均気温(℃).1</th>\n",
              "      <th>平均気温(℃).2</th>\n",
              "      <th>降水量の合計(mm)</th>\n",
              "      <th>降水量の合計(mm).1</th>\n",
              "      <th>降水量の合計(mm).2</th>\n",
              "      <th>降水量の合計(mm).3</th>\n",
              "    </tr>\n",
              "  </thead>\n",
              "  <tbody>\n",
              "    <tr>\n",
              "      <th>0</th>\n",
              "      <td>NaN</td>\n",
              "      <td>NaN</td>\n",
              "      <td>品質情報</td>\n",
              "      <td>均質番号</td>\n",
              "      <td>NaN</td>\n",
              "      <td>現象なし情報</td>\n",
              "      <td>品質情報</td>\n",
              "      <td>均質番号</td>\n",
              "    </tr>\n",
              "    <tr>\n",
              "      <th>1</th>\n",
              "      <td>2019/1</td>\n",
              "      <td>2.4</td>\n",
              "      <td>8</td>\n",
              "      <td>1</td>\n",
              "      <td>4.0</td>\n",
              "      <td>0</td>\n",
              "      <td>8</td>\n",
              "      <td>1</td>\n",
              "    </tr>\n",
              "    <tr>\n",
              "      <th>2</th>\n",
              "      <td>2019/2</td>\n",
              "      <td>3.7</td>\n",
              "      <td>8</td>\n",
              "      <td>1</td>\n",
              "      <td>13.0</td>\n",
              "      <td>0</td>\n",
              "      <td>8</td>\n",
              "      <td>1</td>\n",
              "    </tr>\n",
              "    <tr>\n",
              "      <th>3</th>\n",
              "      <td>2019/3</td>\n",
              "      <td>7.0</td>\n",
              "      <td>8</td>\n",
              "      <td>1</td>\n",
              "      <td>83.0</td>\n",
              "      <td>0</td>\n",
              "      <td>8</td>\n",
              "      <td>1</td>\n",
              "    </tr>\n",
              "    <tr>\n",
              "      <th>4</th>\n",
              "      <td>2019/4</td>\n",
              "      <td>10.2</td>\n",
              "      <td>8</td>\n",
              "      <td>1</td>\n",
              "      <td>90.5</td>\n",
              "      <td>0</td>\n",
              "      <td>8</td>\n",
              "      <td>1</td>\n",
              "    </tr>\n",
              "    <tr>\n",
              "      <th>5</th>\n",
              "      <td>2019/5</td>\n",
              "      <td>17.4</td>\n",
              "      <td>8</td>\n",
              "      <td>1</td>\n",
              "      <td>81.0</td>\n",
              "      <td>0</td>\n",
              "      <td>8</td>\n",
              "      <td>1</td>\n",
              "    </tr>\n",
              "    <tr>\n",
              "      <th>6</th>\n",
              "      <td>2019/6</td>\n",
              "      <td>19.0</td>\n",
              "      <td>8</td>\n",
              "      <td>1</td>\n",
              "      <td>168.5</td>\n",
              "      <td>0</td>\n",
              "      <td>8</td>\n",
              "      <td>1</td>\n",
              "    </tr>\n",
              "    <tr>\n",
              "      <th>7</th>\n",
              "      <td>2019/7</td>\n",
              "      <td>22.4</td>\n",
              "      <td>8</td>\n",
              "      <td>1</td>\n",
              "      <td>111.5</td>\n",
              "      <td>0</td>\n",
              "      <td>8</td>\n",
              "      <td>1</td>\n",
              "    </tr>\n",
              "    <tr>\n",
              "      <th>8</th>\n",
              "      <td>2019/8</td>\n",
              "      <td>26.2</td>\n",
              "      <td>8</td>\n",
              "      <td>1</td>\n",
              "      <td>88.5</td>\n",
              "      <td>0</td>\n",
              "      <td>8</td>\n",
              "      <td>1</td>\n",
              "    </tr>\n",
              "    <tr>\n",
              "      <th>9</th>\n",
              "      <td>2019/9</td>\n",
              "      <td>22.4</td>\n",
              "      <td>8</td>\n",
              "      <td>1</td>\n",
              "      <td>72.5</td>\n",
              "      <td>0</td>\n",
              "      <td>8</td>\n",
              "      <td>1</td>\n",
              "    </tr>\n",
              "    <tr>\n",
              "      <th>10</th>\n",
              "      <td>2019/10</td>\n",
              "      <td>16.9</td>\n",
              "      <td>8</td>\n",
              "      <td>1</td>\n",
              "      <td>644.5</td>\n",
              "      <td>0</td>\n",
              "      <td>8</td>\n",
              "      <td>1</td>\n",
              "    </tr>\n",
              "    <tr>\n",
              "      <th>11</th>\n",
              "      <td>2019/11</td>\n",
              "      <td>10.0</td>\n",
              "      <td>8</td>\n",
              "      <td>1</td>\n",
              "      <td>5.5</td>\n",
              "      <td>0</td>\n",
              "      <td>8</td>\n",
              "      <td>1</td>\n",
              "    </tr>\n",
              "    <tr>\n",
              "      <th>12</th>\n",
              "      <td>2019/12</td>\n",
              "      <td>5.4</td>\n",
              "      <td>8</td>\n",
              "      <td>1</td>\n",
              "      <td>27.0</td>\n",
              "      <td>0</td>\n",
              "      <td>8</td>\n",
              "      <td>1</td>\n",
              "    </tr>\n",
              "  </tbody>\n",
              "</table>\n",
              "</div>"
            ],
            "text/plain": [
              "         年月  平均気温(℃) 平均気温(℃).1  ... 降水量の合計(mm).1  降水量の合計(mm).2 降水量の合計(mm).3\n",
              "0       NaN      NaN      品質情報  ...       現象なし情報          品質情報         均質番号\n",
              "1    2019/1      2.4         8  ...            0             8            1\n",
              "2    2019/2      3.7         8  ...            0             8            1\n",
              "3    2019/3      7.0         8  ...            0             8            1\n",
              "4    2019/4     10.2         8  ...            0             8            1\n",
              "5    2019/5     17.4         8  ...            0             8            1\n",
              "6    2019/6     19.0         8  ...            0             8            1\n",
              "7    2019/7     22.4         8  ...            0             8            1\n",
              "8    2019/8     26.2         8  ...            0             8            1\n",
              "9    2019/9     22.4         8  ...            0             8            1\n",
              "10  2019/10     16.9         8  ...            0             8            1\n",
              "11  2019/11     10.0         8  ...            0             8            1\n",
              "12  2019/12      5.4         8  ...            0             8            1\n",
              "\n",
              "[13 rows x 8 columns]"
            ]
          },
          "metadata": {
            "tags": []
          },
          "execution_count": 8
        }
      ]
    },
    {
      "cell_type": "markdown",
      "metadata": {
        "id": "rGZ5J0T3TnA2",
        "colab_type": "text"
      },
      "source": [
        "`data.csv`ファイルの第2行をヘッダとして読み込むことで，かなり扱いやすいデータフレームになった感じがある．\n",
        "\n",
        "元のファイルで「平均気温(℃)」や「降水量の合計(mm)」のように内容が重複する列については，見出しが「平均気温(℃).1 」や「平均気温(℃).2」のように書き換えられていることに注意されたい． \n",
        "\n",
        "さて，見出しはスッキリしたものの，依然として，このデータフレームには，第0行に\n",
        "```\n",
        "NaN\tNaN\t品質情報\t均質番号\tNaN\t現象なし情報\t品質情報\t均質番号\n",
        "```\n",
        "という意味の無い情報しか入っていない．そこで，[`Dataframe.drop`関数](https://pandas.pydata.org/pandas-docs/stable/reference/api/pandas.DataFrame.drop.html)を用いて，第0行を削除しておこう．\n",
        "\n",
        "以上の操作により，だいぶスッキリしたデータフレームに整形できる．"
      ]
    },
    {
      "cell_type": "code",
      "metadata": {
        "id": "eUC1tyWSVko5",
        "colab_type": "code",
        "outputId": "c07289cb-5b79-447d-e630-38c324c2273e",
        "colab": {
          "base_uri": "https://localhost:8080/",
          "height": 421
        }
      },
      "source": [
        "df = df.drop(index=0) # dfの0番目の行を取り除いたデータフレームに df という名前をつけ直す\n",
        "df # df というデータフレームの中身を表示"
      ],
      "execution_count": 10,
      "outputs": [
        {
          "output_type": "execute_result",
          "data": {
            "text/html": [
              "<div>\n",
              "<style scoped>\n",
              "    .dataframe tbody tr th:only-of-type {\n",
              "        vertical-align: middle;\n",
              "    }\n",
              "\n",
              "    .dataframe tbody tr th {\n",
              "        vertical-align: top;\n",
              "    }\n",
              "\n",
              "    .dataframe thead th {\n",
              "        text-align: right;\n",
              "    }\n",
              "</style>\n",
              "<table border=\"1\" class=\"dataframe\">\n",
              "  <thead>\n",
              "    <tr style=\"text-align: right;\">\n",
              "      <th></th>\n",
              "      <th>年月</th>\n",
              "      <th>平均気温(℃)</th>\n",
              "      <th>平均気温(℃).1</th>\n",
              "      <th>平均気温(℃).2</th>\n",
              "      <th>降水量の合計(mm)</th>\n",
              "      <th>降水量の合計(mm).1</th>\n",
              "      <th>降水量の合計(mm).2</th>\n",
              "      <th>降水量の合計(mm).3</th>\n",
              "    </tr>\n",
              "  </thead>\n",
              "  <tbody>\n",
              "    <tr>\n",
              "      <th>1</th>\n",
              "      <td>2019/1</td>\n",
              "      <td>2.4</td>\n",
              "      <td>8</td>\n",
              "      <td>1</td>\n",
              "      <td>4.0</td>\n",
              "      <td>0</td>\n",
              "      <td>8</td>\n",
              "      <td>1</td>\n",
              "    </tr>\n",
              "    <tr>\n",
              "      <th>2</th>\n",
              "      <td>2019/2</td>\n",
              "      <td>3.7</td>\n",
              "      <td>8</td>\n",
              "      <td>1</td>\n",
              "      <td>13.0</td>\n",
              "      <td>0</td>\n",
              "      <td>8</td>\n",
              "      <td>1</td>\n",
              "    </tr>\n",
              "    <tr>\n",
              "      <th>3</th>\n",
              "      <td>2019/3</td>\n",
              "      <td>7.0</td>\n",
              "      <td>8</td>\n",
              "      <td>1</td>\n",
              "      <td>83.0</td>\n",
              "      <td>0</td>\n",
              "      <td>8</td>\n",
              "      <td>1</td>\n",
              "    </tr>\n",
              "    <tr>\n",
              "      <th>4</th>\n",
              "      <td>2019/4</td>\n",
              "      <td>10.2</td>\n",
              "      <td>8</td>\n",
              "      <td>1</td>\n",
              "      <td>90.5</td>\n",
              "      <td>0</td>\n",
              "      <td>8</td>\n",
              "      <td>1</td>\n",
              "    </tr>\n",
              "    <tr>\n",
              "      <th>5</th>\n",
              "      <td>2019/5</td>\n",
              "      <td>17.4</td>\n",
              "      <td>8</td>\n",
              "      <td>1</td>\n",
              "      <td>81.0</td>\n",
              "      <td>0</td>\n",
              "      <td>8</td>\n",
              "      <td>1</td>\n",
              "    </tr>\n",
              "    <tr>\n",
              "      <th>6</th>\n",
              "      <td>2019/6</td>\n",
              "      <td>19.0</td>\n",
              "      <td>8</td>\n",
              "      <td>1</td>\n",
              "      <td>168.5</td>\n",
              "      <td>0</td>\n",
              "      <td>8</td>\n",
              "      <td>1</td>\n",
              "    </tr>\n",
              "    <tr>\n",
              "      <th>7</th>\n",
              "      <td>2019/7</td>\n",
              "      <td>22.4</td>\n",
              "      <td>8</td>\n",
              "      <td>1</td>\n",
              "      <td>111.5</td>\n",
              "      <td>0</td>\n",
              "      <td>8</td>\n",
              "      <td>1</td>\n",
              "    </tr>\n",
              "    <tr>\n",
              "      <th>8</th>\n",
              "      <td>2019/8</td>\n",
              "      <td>26.2</td>\n",
              "      <td>8</td>\n",
              "      <td>1</td>\n",
              "      <td>88.5</td>\n",
              "      <td>0</td>\n",
              "      <td>8</td>\n",
              "      <td>1</td>\n",
              "    </tr>\n",
              "    <tr>\n",
              "      <th>9</th>\n",
              "      <td>2019/9</td>\n",
              "      <td>22.4</td>\n",
              "      <td>8</td>\n",
              "      <td>1</td>\n",
              "      <td>72.5</td>\n",
              "      <td>0</td>\n",
              "      <td>8</td>\n",
              "      <td>1</td>\n",
              "    </tr>\n",
              "    <tr>\n",
              "      <th>10</th>\n",
              "      <td>2019/10</td>\n",
              "      <td>16.9</td>\n",
              "      <td>8</td>\n",
              "      <td>1</td>\n",
              "      <td>644.5</td>\n",
              "      <td>0</td>\n",
              "      <td>8</td>\n",
              "      <td>1</td>\n",
              "    </tr>\n",
              "    <tr>\n",
              "      <th>11</th>\n",
              "      <td>2019/11</td>\n",
              "      <td>10.0</td>\n",
              "      <td>8</td>\n",
              "      <td>1</td>\n",
              "      <td>5.5</td>\n",
              "      <td>0</td>\n",
              "      <td>8</td>\n",
              "      <td>1</td>\n",
              "    </tr>\n",
              "    <tr>\n",
              "      <th>12</th>\n",
              "      <td>2019/12</td>\n",
              "      <td>5.4</td>\n",
              "      <td>8</td>\n",
              "      <td>1</td>\n",
              "      <td>27.0</td>\n",
              "      <td>0</td>\n",
              "      <td>8</td>\n",
              "      <td>1</td>\n",
              "    </tr>\n",
              "  </tbody>\n",
              "</table>\n",
              "</div>"
            ],
            "text/plain": [
              "         年月  平均気温(℃) 平均気温(℃).1  ... 降水量の合計(mm).1  降水量の合計(mm).2 降水量の合計(mm).3\n",
              "1    2019/1      2.4         8  ...            0             8            1\n",
              "2    2019/2      3.7         8  ...            0             8            1\n",
              "3    2019/3      7.0         8  ...            0             8            1\n",
              "4    2019/4     10.2         8  ...            0             8            1\n",
              "5    2019/5     17.4         8  ...            0             8            1\n",
              "6    2019/6     19.0         8  ...            0             8            1\n",
              "7    2019/7     22.4         8  ...            0             8            1\n",
              "8    2019/8     26.2         8  ...            0             8            1\n",
              "9    2019/9     22.4         8  ...            0             8            1\n",
              "10  2019/10     16.9         8  ...            0             8            1\n",
              "11  2019/11     10.0         8  ...            0             8            1\n",
              "12  2019/12      5.4         8  ...            0             8            1\n",
              "\n",
              "[12 rows x 8 columns]"
            ]
          },
          "metadata": {
            "tags": []
          },
          "execution_count": 10
        }
      ]
    },
    {
      "cell_type": "markdown",
      "metadata": {
        "id": "mniC8cDMVBST",
        "colab_type": "text"
      },
      "source": [
        "## データフレームの列にアクセス\n",
        "こうして綺麗に整形されたデータフレーム`df`の各列にアクセスするには，\n",
        "```\n",
        "df[\"平均気温(℃)\"]\n",
        "```\n",
        "のように，`データフレーム名[列ラベル]` とすればいい．"
      ]
    },
    {
      "cell_type": "code",
      "metadata": {
        "id": "uO_CVZPKYlfi",
        "colab_type": "code",
        "outputId": "6d9cd9a8-b891-4ed2-ce8b-2d7dad4c1b7d",
        "colab": {
          "base_uri": "https://localhost:8080/",
          "height": 238
        }
      },
      "source": [
        "df[\"平均気温(℃)\"]"
      ],
      "execution_count": 11,
      "outputs": [
        {
          "output_type": "execute_result",
          "data": {
            "text/plain": [
              "1      2.4\n",
              "2      3.7\n",
              "3      7.0\n",
              "4     10.2\n",
              "5     17.4\n",
              "6     19.0\n",
              "7     22.4\n",
              "8     26.2\n",
              "9     22.4\n",
              "10    16.9\n",
              "11    10.0\n",
              "12     5.4\n",
              "Name: 平均気温(℃), dtype: float64"
            ]
          },
          "metadata": {
            "tags": []
          },
          "execution_count": 11
        }
      ]
    },
    {
      "cell_type": "markdown",
      "metadata": {
        "id": "ZqbMhcXPYv6b",
        "colab_type": "text"
      },
      "source": [
        "ただし，このままでは `1, 2, ..., 12` という，各行についた**インデックス**までもセットになったもの（正確には`pandas.Series`オブジェクト）であるため，`.values` をつけて，数字の羅列（実際には `numpy.array` オブジェクト）だけを取り出そう．\n",
        "\n",
        "この辺りは，細かい部分まで正確に理解できなくてもいいので，とにかく使って「馴れ」ていく方がいい．"
      ]
    },
    {
      "cell_type": "code",
      "metadata": {
        "id": "K3a0MOm7ZczL",
        "colab_type": "code",
        "outputId": "7fd3816c-949d-4000-d573-705739017796",
        "colab": {
          "base_uri": "https://localhost:8080/",
          "height": 51
        }
      },
      "source": [
        "df[\"平均気温(℃)\"].values"
      ],
      "execution_count": 12,
      "outputs": [
        {
          "output_type": "execute_result",
          "data": {
            "text/plain": [
              "array([ 2.4,  3.7,  7. , 10.2, 17.4, 19. , 22.4, 26.2, 22.4, 16.9, 10. ,\n",
              "        5.4])"
            ]
          },
          "metadata": {
            "tags": []
          },
          "execution_count": 12
        }
      ]
    },
    {
      "cell_type": "markdown",
      "metadata": {
        "id": "WI8CjBqgZ1Sj",
        "colab_type": "text"
      },
      "source": [
        "こうして取り出した数値を `temp`と`prep`に代入すれば，手で入力したものと全く同じように使える．"
      ]
    },
    {
      "cell_type": "code",
      "metadata": {
        "id": "AgaajbwjHsW4",
        "colab_type": "code",
        "colab": {
          "base_uri": "https://localhost:8080/",
          "height": 51
        },
        "outputId": "a58c5b21-be33-499a-c8da-ff11d9d94025"
      },
      "source": [
        "temp = df[\"平均気温(℃)\"].values\n",
        "prep = df[\"降水量の合計(mm)\"].values\n",
        "print(\"temp\", temp)\n",
        "print(\"prep\", prep)"
      ],
      "execution_count": 20,
      "outputs": [
        {
          "output_type": "stream",
          "text": [
            "temp [ 2.4  3.7  7.  10.2 17.4 19.  22.4 26.2 22.4 16.9 10.   5.4]\n",
            "prep [  4.   13.   83.   90.5  81.  168.5 111.5  88.5  72.5 644.5   5.5  27. ]\n"
          ],
          "name": "stdout"
        }
      ]
    },
    {
      "cell_type": "markdown",
      "metadata": {
        "id": "77Cszjf0vUfk",
        "colab_type": "text"
      },
      "source": [
        "# グラフに表示してみよう\n",
        "[グラフの描画]("
      ]
    },
    {
      "cell_type": "code",
      "metadata": {
        "id": "OSzk31a4jxAs",
        "colab_type": "code",
        "colab": {
          "base_uri": "https://localhost:8080/",
          "height": 295
        },
        "outputId": "a9190305-abd1-4c44-86b7-aadb603d4c7b"
      },
      "source": [
        "from matplotlib import pyplot as plt\n",
        "month = range(1,13) # 月を与える\n",
        "\n",
        "fig, ax1 = plt.subplots() # ax1軸を作るおまじない\n",
        "ax2 = ax1.twinx() # ax1とx軸を共有するax2軸を作るおまじない\n",
        "\n",
        "# グラフのプロットと整形\n",
        "ax1.plot(month, temp, 'r-*', label=\"temperature\") # ax1軸に`plot`関数を用いて各月の平均気温をプロット\n",
        "ax2.bar(month, prep, color='none', edgecolor='C0', label=\"precipitation\") # ax2軸に降水量を棒グラフでプロット\n",
        "plt.xticks(month) # x軸の目盛りを月単位にする\n",
        "plt.title('Sendai weather 2019') # グラフのタイトルを記載\n",
        "ax1.set_xlabel(\"month\") # x軸のラベル\n",
        "ax1.set_ylabel(\"temprerature [C]\") # y1軸のラベル\n",
        "ax2.set_ylabel(\"precipitation [mm]\") # y2軸のラベル\n",
        "\n",
        "# 以下，凡例のためのおまじない\n",
        "h1, l1 = ax1.get_legend_handles_labels() # ax1軸の凡例を抽出するおまじない\n",
        "h2, l2 = ax2.get_legend_handles_labels() # ax2軸の凡例を抽出するおまじない\n",
        "ax1.legend(h1+h2, l1+l2, loc='upper left') # ax1軸とax2軸の凡例を一緒に出力するおまじない\n",
        "plt.show()"
      ],
      "execution_count": 19,
      "outputs": [
        {
          "output_type": "display_data",
          "data": {
            "image/png": "[encoded data removed]",
            "text/plain": [
              "<Figure size 432x288 with 2 Axes>"
            ]
          },
          "metadata": {
            "tags": [],
            "needs_background": "light"
          }
        }
      ]
    },
    {
      "cell_type": "code",
      "metadata": {
        "id": "_Eyb81upu_VC",
        "colab_type": "code",
        "colab": {}
      },
      "source": [
        ""
      ],
      "execution_count": 0,
      "outputs": []
    }
  ]
}