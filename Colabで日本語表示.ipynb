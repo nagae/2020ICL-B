{
  "nbformat": 4,
  "nbformat_minor": 0,
  "metadata": {
    "colab": {
      "name": "Colabで日本語表示.ipynb",
      "provenance": [],
      "collapsed_sections": [],
      "toc_visible": true,
      "authorship_tag": "ABX9TyPW+hLZZ81z2sm5Vzw+dEdh",
      "include_colab_link": true
    },
    "kernelspec": {
      "name": "python3",
      "display_name": "Python 3"
    }
  },
  "cells": [
    {
      "cell_type": "markdown",
      "metadata": {
        "id": "view-in-github",
        "colab_type": "text"
      },
      "source": [
        "<a href=\"https://colab.research.google.com/github/nagae/2020ICL-B/blob/master/Colab%E3%81%A7%E6%97%A5%E6%9C%AC%E8%AA%9E%E8%A1%A8%E7%A4%BA.ipynb\" target=\"_parent\"><img src=\"https://colab.research.google.com/assets/colab-badge.svg\" alt=\"Open In Colab\"/></a>"
      ]
    },
    {
      "cell_type": "markdown",
      "metadata": {
        "id": "Pm1ul4JGeOPr",
        "colab_type": "text"
      },
      "source": [
        "# Colabで日本語表示\n",
        "`matplotlib.pyplot` で軸のラベルやタイトルに日本語を使おうとして\n",
        "```python\n",
        "import matplotlib.pyplot as plt\n",
        "plt.plot([1, 2, 3, 4])\n",
        "plt.title(u\"->日本語のタイトルです<-\")\n",
        "plt.xlabel(u\"x軸です.\")\n",
        "plt.savefig('jp_font_tofu.png',dpi=100)\n",
        "plt.show()\n",
        "```\n",
        "などとすると，下記のように日本語文字が**豆腐**になってしまう．\n",
        "\n",
        "<img alt=\"tofu\" src=\"https://i.imgur.com/Z2OgSlT.png\" width=\"300\">\n",
        "\n",
        "これを回避するには，[`japanize-matplotlib` モジュール](https://pypi.org/project/japanize-matplotlib/1.1.2/)をインストールすればいい．仮想マシンに勝手にモジュールをインストールしていいものなんだろうかとは思うが，できてしまうのだから活用しない手は無い．\n",
        "\n",
        "モジュールをインストールするためには，コードセル内で下記のコマンドを実行する．`!` というのは Python コマンドではなく，仮想マシン上の**システムコマンド**であることを意味している．`pip install` は Python のモジュールをインストールするためのコマンドである．\n",
        "\n"
      ]
    },
    {
      "cell_type": "code",
      "metadata": {
        "id": "eYigj-64-uRX",
        "colab_type": "code",
        "outputId": "8b2be5c0-a5d5-402e-f001-1b04d5ed1fff",
        "colab": {
          "base_uri": "https://localhost:8080/",
          "height": 326
        }
      },
      "source": [
        "!pip install japanize-matplotlib"
      ],
      "execution_count": 1,
      "outputs": [
        {
          "output_type": "stream",
          "text": [
            "Collecting japanize-matplotlib\n",
            "\u001b[?25l  Downloading https://files.pythonhosted.org/packages/2c/aa/3b24d54bd02e25d63c8f23bb316694e1aad7ffdc07ba296e7c9be2f6837d/japanize-matplotlib-1.1.2.tar.gz (4.1MB)\n",
            "\u001b[K     |████████████████████████████████| 4.1MB 51kB/s \n",
            "\u001b[?25hRequirement already satisfied: matplotlib in /usr/local/lib/python3.6/dist-packages (from japanize-matplotlib) (3.2.1)\n",
            "Requirement already satisfied: python-dateutil>=2.1 in /usr/local/lib/python3.6/dist-packages (from matplotlib->japanize-matplotlib) (2.8.1)\n",
            "Requirement already satisfied: pyparsing!=2.0.4,!=2.1.2,!=2.1.6,>=2.0.1 in /usr/local/lib/python3.6/dist-packages (from matplotlib->japanize-matplotlib) (2.4.7)\n",
            "Requirement already satisfied: cycler>=0.10 in /usr/local/lib/python3.6/dist-packages (from matplotlib->japanize-matplotlib) (0.10.0)\n",
            "Requirement already satisfied: numpy>=1.11 in /usr/local/lib/python3.6/dist-packages (from matplotlib->japanize-matplotlib) (1.18.3)\n",
            "Requirement already satisfied: kiwisolver>=1.0.1 in /usr/local/lib/python3.6/dist-packages (from matplotlib->japanize-matplotlib) (1.2.0)\n",
            "Requirement already satisfied: six>=1.5 in /usr/local/lib/python3.6/dist-packages (from python-dateutil>=2.1->matplotlib->japanize-matplotlib) (1.12.0)\n",
            "Building wheels for collected packages: japanize-matplotlib\n",
            "  Building wheel for japanize-matplotlib (setup.py) ... \u001b[?25l\u001b[?25hdone\n",
            "  Created wheel for japanize-matplotlib: filename=japanize_matplotlib-1.1.2-cp36-none-any.whl size=4120191 sha256=3f52c345aba92fe47abf14b66c5edf88b16040d52d3c64fe61894d4124b6cfbb\n",
            "  Stored in directory: /root/.cache/pip/wheels/9c/f9/fc/bc052ce743a03f94ccc7fda73d1d389ce98216c6ffaaf65afc\n",
            "Successfully built japanize-matplotlib\n",
            "Installing collected packages: japanize-matplotlib\n",
            "Successfully installed japanize-matplotlib-1.1.2\n"
          ],
          "name": "stdout"
        }
      ]
    },
    {
      "cell_type": "markdown",
      "metadata": {
        "id": "siMUXylvl_3d",
        "colab_type": "text"
      },
      "source": [
        "こうしてインストールされた `japanize-matplotlib` モジュールをインポートすれば，それ以降の日本語がきれいに表示され，PDFとして保存することもできる．"
      ]
    },
    {
      "cell_type": "code",
      "metadata": {
        "id": "wS02CzJs1h9H",
        "colab_type": "code",
        "outputId": "f3637519-cde1-436a-a6c5-8f49014af98e",
        "colab": {
          "base_uri": "https://localhost:8080/",
          "height": 292
        }
      },
      "source": [
        "import matplotlib.pyplot as plt\n",
        "import japanize_matplotlib\n",
        "plt.plot([1, 2, 3, 4])\n",
        "plt.title(u\"->日本語のタイトルです<-\")\n",
        "plt.xlabel(u\"x軸です.\")\n",
        "plt.savefig('jp_font.png',dpi=100)\n",
        "plt.savefig('jp_font.pdf')\n",
        "plt.show()\n"
      ],
      "execution_count": 3,
      "outputs": [
        {
          "output_type": "display_data",
          "data": {
            "image/png": "[encoded data removed]",
            "text/plain": [
              "<Figure size 432x288 with 1 Axes>"
            ]
          },
          "metadata": {
            "tags": [],
            "needs_background": "light"
          }
        }
      ]
    }
  ]
}