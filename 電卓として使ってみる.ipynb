{
  "nbformat": 4,
  "nbformat_minor": 0,
  "metadata": {
    "colab": {
      "name": "電卓として使ってみる.ipynb",
      "provenance": [],
      "collapsed_sections": [],
      "authorship_tag": "ABX9TyP+iGDyVZfYYejyRp7MX7hK",
      "include_colab_link": true
    },
    "kernelspec": {
      "name": "python3",
      "display_name": "Python 3"
    }
  },
  "cells": [
    {
      "cell_type": "markdown",
      "metadata": {
        "id": "view-in-github",
        "colab_type": "text"
      },
      "source": [
        "<a href=\"https://colab.research.google.com/github/nagae/2020ICL-B/blob/master/%E9%9B%BB%E5%8D%93%E3%81%A8%E3%81%97%E3%81%A6%E4%BD%BF%E3%81%A3%E3%81%A6%E3%81%BF%E3%82%8B.ipynb\" target=\"_parent\"><img src=\"https://colab.research.google.com/assets/colab-badge.svg\" alt=\"Open In Colab\"/></a>"
      ]
    },
    {
      "cell_type": "markdown",
      "metadata": {
        "id": "311MC4varyqA",
        "colab_type": "text"
      },
      "source": [
        "# Colab を電卓として使ってみる\n",
        "それぞれのセルは，**Shift+Return** で実行できる．Python では `#` 以降はコメントとして読み飛ばされる．\n",
        "\n",
        "\n",
        "各セルの最後が**評価式**になっている場合は，その評価結果が出力される．"
      ]
    },
    {
      "cell_type": "markdown",
      "metadata": {
        "id": "dIUIbkdZvLj0",
        "colab_type": "text"
      },
      "source": [
        "# 四則演算"
      ]
    },
    {
      "cell_type": "code",
      "metadata": {
        "id": "iu9tRtfFroIE",
        "colab_type": "code",
        "outputId": "29f815d4-7861-4a63-8b6b-50754c486170",
        "colab": {
          "base_uri": "https://localhost:8080/",
          "height": 34
        }
      },
      "source": [
        "# 四則演算(その1)\n",
        "1+2+3+4+5+6+7+8+9+10 # セルの最後に式が直接書かれている場合はその結果を出力する"
      ],
      "execution_count": 0,
      "outputs": [
        {
          "output_type": "execute_result",
          "data": {
            "text/plain": [
              "55"
            ]
          },
          "metadata": {
            "tags": []
          },
          "execution_count": 7
        }
      ]
    },
    {
      "cell_type": "code",
      "metadata": {
        "id": "KJ2Maskftcg_",
        "colab_type": "code",
        "outputId": "68358e46-eb60-43d1-8b96-98116834d981",
        "colab": {
          "base_uri": "https://localhost:8080/",
          "height": 34
        }
      },
      "source": [
        "# 四則演算(その2)\n",
        "1+2+3+4+5+6+7+8+9+10 # セルの最後ではないので，この計算結果は表示されない\n",
        "10-9+8-7+6-5+4-3+2-1 # こちらの計算結果のみが出力される"
      ],
      "execution_count": 0,
      "outputs": [
        {
          "output_type": "execute_result",
          "data": {
            "text/plain": [
              "5"
            ]
          },
          "metadata": {
            "tags": []
          },
          "execution_count": 11
        }
      ]
    },
    {
      "cell_type": "markdown",
      "metadata": {
        "id": "OR9tspr3s0tc",
        "colab_type": "text"
      },
      "source": [
        "1つのセル内で複数計算を出力させたい場合は，それぞれの計算式を [`print`という**関数**](https://docs.python.org/3/library/functions.html#print)に渡す．"
      ]
    },
    {
      "cell_type": "code",
      "metadata": {
        "id": "FATJmRvKryVc",
        "colab_type": "code",
        "outputId": "724538b3-f134-4ade-d544-ba52151eba36",
        "colab": {
          "base_uri": "https://localhost:8080/",
          "height": 51
        }
      },
      "source": [
        "# 1つのセル内で複数の計算をする場合\n",
        "print(1+2+3+4+5+6+7+8+9+10)\n",
        "print(10-9+8-7+6-5+4-3+2-1)"
      ],
      "execution_count": 0,
      "outputs": [
        {
          "output_type": "stream",
          "text": [
            "55\n",
            "5\n"
          ],
          "name": "stdout"
        }
      ]
    },
    {
      "cell_type": "markdown",
      "metadata": {
        "id": "PGzf1b81trDu",
        "colab_type": "text"
      },
      "source": [
        "（前回講義にも同じ内容あり）次のセルでは，`a` と`b` という2つの**変数**に値を**代入**し，その加減乗除を行った結果を `print` **関数**に渡している．\n",
        "\n",
        "`print`関数の代表的な書式は以下のようになっており，それぞれの **引数** を順番に画面に出力する．引数としては，任意の**オブジェクト**（変数，文字列，式など）を取ることができる．\n",
        "```python\n",
        "print(引数1, 引数2, ...)\n",
        "```\n",
        "例えば，次のセルの3行目：\n",
        "```python\n",
        "print( \"a+b=\", a+b ) # 和\n",
        "```\n",
        "は，`print`関数の第1引数として`\"a+b=\"`という**文字列**，第2引数として`a+b`という**式**を与えている．最後の `# 和` というのは**コメント**．Python では `#` という記号から行末まではすべてコメントとして取り扱われる．"
      ]
    },
    {
      "cell_type": "code",
      "metadata": {
        "id": "7dMeMdH7rw93",
        "colab_type": "code",
        "outputId": "b1cfab2a-9af2-40c3-efcc-2b09bdc1993f",
        "colab": {
          "base_uri": "https://localhost:8080/",
          "height": 153
        }
      },
      "source": [
        "a = 13\n",
        "b = 5\n",
        "print( \"a+b=\", a+b ) # 和\n",
        "print( \"a-b=\", a-b ) # 差\n",
        "print( \"b-a=\", b-a ) # 差\n",
        "print( \"a*b=\", a*b ) # 積\n",
        "print( \"a//b=\", a//b ) # 商\n",
        "print( \"b//a=\", b//a ) # 商\n",
        "print( \"a%b=\", int(a%b) ) # 剰余\n",
        "print( \"b%a=\", int(b%a) ) # 剰余"
      ],
      "execution_count": 0,
      "outputs": [
        {
          "output_type": "stream",
          "text": [
            "a+b= 18\n",
            "a-b= 8\n",
            "b-a= -8\n",
            "a*b= 65\n",
            "a//b= 2\n",
            "b//a= 0\n",
            "a%b= 3\n",
            "b%a= 5\n"
          ],
          "name": "stdout"
        }
      ]
    },
    {
      "cell_type": "markdown",
      "metadata": {
        "id": "zP4o6lB6u0Lb",
        "colab_type": "text"
      },
      "source": [
        "（前回講義にも同じ内容あり）上のセルでは，除算の結果が実数になっていた．結果を整数で求めたい場合は，**計算式**を [int 関数](https://docs.python.org/ja/3/library/functions.html#int)に渡す．ついでに，剰余を求める %という**演算子**も紹介しておこう．"
      ]
    },
    {
      "cell_type": "code",
      "metadata": {
        "id": "t4SNl8neuwvT",
        "colab_type": "code",
        "outputId": "01f83a99-0e84-4eb9-e6cf-d8269288a80c",
        "colab": {
          "base_uri": "https://localhost:8080/",
          "height": 153
        }
      },
      "source": [
        "a = 13\n",
        "b = 5\n",
        "print( \"a+b=\", int(a+b) ) # 和\n",
        "print( \"a-b=\", int(a-b) ) # 差\n",
        "print( \"b-a=\", int(b-a) ) # 差\n",
        "print( \"a*b=\", int(a*b) ) # 積\n",
        "print( \"a/b=\", int(a/b) ) # 商\n",
        "print( \"b/a=\", int(b/a) ) # 商\n"
      ],
      "execution_count": 0,
      "outputs": [
        {
          "output_type": "stream",
          "text": [
            "a+b= 18\n",
            "a-b= 8\n",
            "b-a= -8\n",
            "a*b= 65\n",
            "a/b= 2\n",
            "b/a= 0\n",
            "a%b= 3\n",
            "b%a= 5\n"
          ],
          "name": "stdout"
        }
      ]
    },
    {
      "cell_type": "markdown",
      "metadata": {
        "id": "OSg9gkKVvvDm",
        "colab_type": "text"
      },
      "source": [
        "# `math` モジュールを用いた高度な演算\n",
        "上述の四則演算に加え，Python では様々な演算子が存在する．"
      ]
    },
    {
      "cell_type": "code",
      "metadata": {
        "id": "hz37SkBHvCKo",
        "colab_type": "code",
        "colab": {}
      },
      "source": [
        ""
      ],
      "execution_count": 0,
      "outputs": []
    }
  ]
}